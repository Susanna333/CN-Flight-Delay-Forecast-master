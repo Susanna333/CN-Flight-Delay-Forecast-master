{
 "cells": [
  {
   "cell_type": "markdown",
   "metadata": {},
   "source": [
    "## 项目: 机票航班延误预测"
   ]
  },
  {
   "cell_type": "markdown",
   "metadata": {},
   "source": [
    "欢迎来到机票航班延误预测的实战项目！在此文件中，有些示例代码已经提供给你，但你还需要实现更多的功能让项目成功运行。除非有明确要求，你无须修改任何已给出的代码。以**'练习'**开始的标题表示接下来的代码部分中有你必须要实现的功能。每一部分都会有详细的指导，需要实现的部分也会在注释中以'TODO'标出。请仔细阅读所有的提示！\n",
    "\n",
    "除了实现代码外，你还必须回答一些与项目和你的实现有关的问题。每一个需要你回答的问题都会以**'问题 X'**为标题。请仔细阅读每个问题，并且在问题后的**'回答'**文字框中写出完整的答案。我们将根据你对问题的回答和撰写代码所实现的功能来对你提交的项目进行评分。\n",
    ">**提示：**Code 和 Markdown 区域可通过**Shift + Enter**快捷键运行。此外，Markdown可以通过双击进入编辑模式。"
   ]
  },
  {
   "cell_type": "markdown",
   "metadata": {},
   "source": [
    "## 开始\n",
    "\n",
    "我们知道，航班延误对于旅客、售卖机票的平台以及航空公司都是一个比较头疼的问题。造成航班延误的因素有很多，包括台风、雾霾、飞机故障、航空管制等等原因。在这个项目中，我们将探索在飞机起飞前2小时做航班延误预测这个实际问题，你将从实际问题出发，探索数据，抽取数据特征，构建模型并作出预测。\n",
    "\n",
    "这个项目的数据来自[航班动态起降数据集](https://www.kesci.com/home/dataset/59793a5a0d84640e9b2fedd3)（数据集由和鲸社区提供），该数据集用2015年5月到2017年5月的机场情况作为训练集，用2016年6月作为测试集。你可以通过报名该比赛获取数据集，另外，为了方便大家获取数据，我们也提供了一个[下载地址](https://static-documents.s3.cn-north-1.amazonaws.com.cn/nd101/MLND+documents/data.zip)，请下载后放置data文件夹中。\n",
    "\n",
    "**数据说明：**\n",
    "\n",
    "\n",
    "- ./data/2015年5月到2017年5月城市天气.csv\n",
    "- ./data/2015年5月到2017年5月航班动态数据.csv\n",
    "- ./data/2015年5月到2017年5月特情.xlsx\n",
    "- ./data/机场城市对应表.xlsx\n"
   ]
  },
  {
   "cell_type": "markdown",
   "metadata": {},
   "source": [
    " 运行下面区域的代码以载入一些此项目所需的Python库。如果成功返回提示语句，则说明载入成功。"
   ]
  },
  {
   "cell_type": "code",
   "execution_count": 25,
   "metadata": {},
   "outputs": [
    {
     "name": "stdout",
     "output_type": "stream",
     "text": [
      "你已经成功载入所需要的库！\n"
     ]
    }
   ],
   "source": [
    "# 为这个项目导入需要的库\n",
    "import numpy as np\n",
    "import pandas as pd\n",
    "import matplotlib.pyplot as plt\n",
    "\n",
    "print('你已经成功载入所需要的库！')"
   ]
  },
  {
   "cell_type": "markdown",
   "metadata": {},
   "source": [
    "## 数据初探"
   ]
  },
  {
   "cell_type": "markdown",
   "metadata": {},
   "source": [
    "### 导入数据\n",
    "我们先导入数据，然后观察头部数据。可以使用[read_csv](https://pandas.pydata.org/pandas-docs/stable/generated/pandas.read_csv.html), [read_excel](https://pandas.pydata.org/pandas-docs/stable/reference/api/pandas.read_excel.html) 分别加载对应格式的数据，然后使用[head](https://pandas.pydata.org/pandas-docs/stable/generated/pandas.DataFrame.head.html)观察前5条数据。"
   ]
  },
  {
   "cell_type": "code",
   "execution_count": 2,
   "metadata": {},
   "outputs": [
    {
     "name": "stderr",
     "output_type": "stream",
     "text": [
      "C:\\ProgramData\\Anaconda3\\lib\\site-packages\\IPython\\core\\interactiveshell.py:3058: DtypeWarning: Columns (2,3) have mixed types. Specify dtype option on import or set low_memory=False.\n",
      "  interactivity=interactivity, compiler=compiler, result=result)\n"
     ]
    }
   ],
   "source": [
    "# 文件路径 './data/2015年5月到2017年5月航班动态数据.csv'\n",
    "# 注意使用字符编码 encoding=\"gb2312\"\n",
    "# TODO: 根据以上提示信息，导入航班数据\n",
    "flight_data = pd.read_csv('./data/2015年5月到2017年5月航班动态数据.csv', encoding='gb2312')\n",
    "\n",
    "# 文件路径 \"./data/2015年5月到2017年5月城市天气.csv\"\n",
    "# TODO：根据以上提示信息，导入天气数据\n",
    "weather = pd.read_csv('./data/2015年5月到2017年5月城市天气.csv')\n",
    "\n",
    "# 文件路径 \"./data/机场城市对应表.xlsx\"\n",
    "# TODO：根据以上提示信息，导入城市与机场对应数据\n",
    "airport_city = pd.read_excel('./data/机场城市对应表.xlsx')\n",
    "\n",
    "# 文件路径 \"./data/2015年5月到2017年5月特情.xlsx\"\n",
    "# TODO：根据以上提示信息，导入特情数据\n",
    "special = pd.read_excel('./data/2015年5月到2017年5月特情.xlsx')"
   ]
  },
  {
   "cell_type": "markdown",
   "metadata": {},
   "source": [
    "### 观察数据\n",
    "使用 [head](https://pandas.pydata.org/pandas-docs/stable/generated/pandas.DataFrame.head.html)观察前5条数据。"
   ]
  },
  {
   "cell_type": "code",
   "execution_count": 3,
   "metadata": {},
   "outputs": [
    {
     "data": {
      "text/html": [
       "<div>\n",
       "<style scoped>\n",
       "    .dataframe tbody tr th:only-of-type {\n",
       "        vertical-align: middle;\n",
       "    }\n",
       "\n",
       "    .dataframe tbody tr th {\n",
       "        vertical-align: top;\n",
       "    }\n",
       "\n",
       "    .dataframe thead th {\n",
       "        text-align: right;\n",
       "    }\n",
       "</style>\n",
       "<table border=\"1\" class=\"dataframe\">\n",
       "  <thead>\n",
       "    <tr style=\"text-align: right;\">\n",
       "      <th></th>\n",
       "      <th>出发机场</th>\n",
       "      <th>到达机场</th>\n",
       "      <th>航班编号</th>\n",
       "      <th>计划起飞时间</th>\n",
       "      <th>计划到达时间</th>\n",
       "      <th>实际起飞时间</th>\n",
       "      <th>实际到达时间</th>\n",
       "      <th>飞机编号</th>\n",
       "      <th>航班是否取消</th>\n",
       "    </tr>\n",
       "  </thead>\n",
       "  <tbody>\n",
       "    <tr>\n",
       "      <td>0</td>\n",
       "      <td>HGH</td>\n",
       "      <td>DLC</td>\n",
       "      <td>CZ6328</td>\n",
       "      <td>1453809600</td>\n",
       "      <td>1453817100</td>\n",
       "      <td>1.453813e+09</td>\n",
       "      <td>1.453819e+09</td>\n",
       "      <td>1.0</td>\n",
       "      <td>正常</td>\n",
       "    </tr>\n",
       "    <tr>\n",
       "      <td>1</td>\n",
       "      <td>SHA</td>\n",
       "      <td>XMN</td>\n",
       "      <td>FM9261</td>\n",
       "      <td>1452760800</td>\n",
       "      <td>1452767100</td>\n",
       "      <td>1.452763e+09</td>\n",
       "      <td>1.452768e+09</td>\n",
       "      <td>2.0</td>\n",
       "      <td>正常</td>\n",
       "    </tr>\n",
       "    <tr>\n",
       "      <td>2</td>\n",
       "      <td>CAN</td>\n",
       "      <td>WNZ</td>\n",
       "      <td>ZH9597</td>\n",
       "      <td>1453800900</td>\n",
       "      <td>1453807500</td>\n",
       "      <td>1.453802e+09</td>\n",
       "      <td>1.453807e+09</td>\n",
       "      <td>3.0</td>\n",
       "      <td>正常</td>\n",
       "    </tr>\n",
       "    <tr>\n",
       "      <td>3</td>\n",
       "      <td>SHA</td>\n",
       "      <td>ZUH</td>\n",
       "      <td>9C8819</td>\n",
       "      <td>1452120600</td>\n",
       "      <td>1452131100</td>\n",
       "      <td>1.452121e+09</td>\n",
       "      <td>1.452130e+09</td>\n",
       "      <td>4.0</td>\n",
       "      <td>正常</td>\n",
       "    </tr>\n",
       "    <tr>\n",
       "      <td>4</td>\n",
       "      <td>SHE</td>\n",
       "      <td>TAO</td>\n",
       "      <td>TZ185</td>\n",
       "      <td>1452399000</td>\n",
       "      <td>1452406800</td>\n",
       "      <td>1.452400e+09</td>\n",
       "      <td>1.452404e+09</td>\n",
       "      <td>5.0</td>\n",
       "      <td>正常</td>\n",
       "    </tr>\n",
       "  </tbody>\n",
       "</table>\n",
       "</div>"
      ],
      "text/plain": [
       "  出发机场 到达机场    航班编号      计划起飞时间      计划到达时间        实际起飞时间        实际到达时间  飞机编号  \\\n",
       "0  HGH  DLC  CZ6328  1453809600  1453817100  1.453813e+09  1.453819e+09   1.0   \n",
       "1  SHA  XMN  FM9261  1452760800  1452767100  1.452763e+09  1.452768e+09   2.0   \n",
       "2  CAN  WNZ  ZH9597  1453800900  1453807500  1.453802e+09  1.453807e+09   3.0   \n",
       "3  SHA  ZUH  9C8819  1452120600  1452131100  1.452121e+09  1.452130e+09   4.0   \n",
       "4  SHE  TAO   TZ185  1452399000  1452406800  1.452400e+09  1.452404e+09   5.0   \n",
       "\n",
       "  航班是否取消  \n",
       "0     正常  \n",
       "1     正常  \n",
       "2     正常  \n",
       "3     正常  \n",
       "4     正常  "
      ]
     },
     "execution_count": 3,
     "metadata": {},
     "output_type": "execute_result"
    }
   ],
   "source": [
    "# 观察航班数据\n",
    "flight_data.head()"
   ]
  },
  {
   "cell_type": "code",
   "execution_count": 4,
   "metadata": {},
   "outputs": [
    {
     "data": {
      "text/html": [
       "<div>\n",
       "<style scoped>\n",
       "    .dataframe tbody tr th:only-of-type {\n",
       "        vertical-align: middle;\n",
       "    }\n",
       "\n",
       "    .dataframe tbody tr th {\n",
       "        vertical-align: top;\n",
       "    }\n",
       "\n",
       "    .dataframe thead th {\n",
       "        text-align: right;\n",
       "    }\n",
       "</style>\n",
       "<table border=\"1\" class=\"dataframe\">\n",
       "  <thead>\n",
       "    <tr style=\"text-align: right;\">\n",
       "      <th></th>\n",
       "      <th>城市</th>\n",
       "      <th>天气</th>\n",
       "      <th>最低气温</th>\n",
       "      <th>最高气温</th>\n",
       "      <th>日期</th>\n",
       "      <th>Unnamed: 5</th>\n",
       "    </tr>\n",
       "  </thead>\n",
       "  <tbody>\n",
       "    <tr>\n",
       "      <td>0</td>\n",
       "      <td>厦门</td>\n",
       "      <td>阴</td>\n",
       "      <td>21</td>\n",
       "      <td>26</td>\n",
       "      <td>2015-05-01</td>\n",
       "      <td>NaN</td>\n",
       "    </tr>\n",
       "    <tr>\n",
       "      <td>1</td>\n",
       "      <td>宁德</td>\n",
       "      <td>阵雨</td>\n",
       "      <td>19</td>\n",
       "      <td>25</td>\n",
       "      <td>2015-05-01</td>\n",
       "      <td>NaN</td>\n",
       "    </tr>\n",
       "    <tr>\n",
       "      <td>2</td>\n",
       "      <td>莆田</td>\n",
       "      <td>阵雨转阴</td>\n",
       "      <td>20</td>\n",
       "      <td>26</td>\n",
       "      <td>2015-05-01</td>\n",
       "      <td>NaN</td>\n",
       "    </tr>\n",
       "    <tr>\n",
       "      <td>3</td>\n",
       "      <td>泉州</td>\n",
       "      <td>阴</td>\n",
       "      <td>22</td>\n",
       "      <td>26</td>\n",
       "      <td>2015-05-01</td>\n",
       "      <td>NaN</td>\n",
       "    </tr>\n",
       "    <tr>\n",
       "      <td>4</td>\n",
       "      <td>漳州</td>\n",
       "      <td>阵雨转阴</td>\n",
       "      <td>22</td>\n",
       "      <td>28</td>\n",
       "      <td>2015-05-01</td>\n",
       "      <td>NaN</td>\n",
       "    </tr>\n",
       "  </tbody>\n",
       "</table>\n",
       "</div>"
      ],
      "text/plain": [
       "   城市    天气 最低气温 最高气温          日期  Unnamed: 5\n",
       "0  厦门     阴   21   26  2015-05-01         NaN\n",
       "1  宁德    阵雨   19   25  2015-05-01         NaN\n",
       "2  莆田  阵雨转阴   20   26  2015-05-01         NaN\n",
       "3  泉州     阴   22   26  2015-05-01         NaN\n",
       "4  漳州  阵雨转阴   22   28  2015-05-01         NaN"
      ]
     },
     "execution_count": 4,
     "metadata": {},
     "output_type": "execute_result"
    }
   ],
   "source": [
    "# 观察天气数据\n",
    "weather.head()"
   ]
  },
  {
   "cell_type": "code",
   "execution_count": 5,
   "metadata": {},
   "outputs": [
    {
     "data": {
      "text/html": [
       "<div>\n",
       "<style scoped>\n",
       "    .dataframe tbody tr th:only-of-type {\n",
       "        vertical-align: middle;\n",
       "    }\n",
       "\n",
       "    .dataframe tbody tr th {\n",
       "        vertical-align: top;\n",
       "    }\n",
       "\n",
       "    .dataframe thead th {\n",
       "        text-align: right;\n",
       "    }\n",
       "</style>\n",
       "<table border=\"1\" class=\"dataframe\">\n",
       "  <thead>\n",
       "    <tr style=\"text-align: right;\">\n",
       "      <th></th>\n",
       "      <th>城市</th>\n",
       "      <th>天气</th>\n",
       "      <th>最低气温</th>\n",
       "      <th>最高气温</th>\n",
       "      <th>日期</th>\n",
       "    </tr>\n",
       "  </thead>\n",
       "  <tbody>\n",
       "    <tr>\n",
       "      <td>0</td>\n",
       "      <td>厦门</td>\n",
       "      <td>阴</td>\n",
       "      <td>21</td>\n",
       "      <td>26</td>\n",
       "      <td>2015-05-01</td>\n",
       "    </tr>\n",
       "    <tr>\n",
       "      <td>1</td>\n",
       "      <td>宁德</td>\n",
       "      <td>阵雨</td>\n",
       "      <td>19</td>\n",
       "      <td>25</td>\n",
       "      <td>2015-05-01</td>\n",
       "    </tr>\n",
       "    <tr>\n",
       "      <td>2</td>\n",
       "      <td>莆田</td>\n",
       "      <td>阵雨转阴</td>\n",
       "      <td>20</td>\n",
       "      <td>26</td>\n",
       "      <td>2015-05-01</td>\n",
       "    </tr>\n",
       "    <tr>\n",
       "      <td>3</td>\n",
       "      <td>泉州</td>\n",
       "      <td>阴</td>\n",
       "      <td>22</td>\n",
       "      <td>26</td>\n",
       "      <td>2015-05-01</td>\n",
       "    </tr>\n",
       "    <tr>\n",
       "      <td>4</td>\n",
       "      <td>漳州</td>\n",
       "      <td>阵雨转阴</td>\n",
       "      <td>22</td>\n",
       "      <td>28</td>\n",
       "      <td>2015-05-01</td>\n",
       "    </tr>\n",
       "  </tbody>\n",
       "</table>\n",
       "</div>"
      ],
      "text/plain": [
       "   城市    天气 最低气温 最高气温          日期\n",
       "0  厦门     阴   21   26  2015-05-01\n",
       "1  宁德    阵雨   19   25  2015-05-01\n",
       "2  莆田  阵雨转阴   20   26  2015-05-01\n",
       "3  泉州     阴   22   26  2015-05-01\n",
       "4  漳州  阵雨转阴   22   28  2015-05-01"
      ]
     },
     "execution_count": 5,
     "metadata": {},
     "output_type": "execute_result"
    }
   ],
   "source": [
    "# 通过观察，发现有一列没有用的空表格 “Unnamed: 5”，你需要使用 `del` 将其从 `weather` 数据中删除\n",
    "del weather[\"Unnamed: 5\"]\n",
    "weather.head()"
   ]
  },
  {
   "cell_type": "code",
   "execution_count": 6,
   "metadata": {},
   "outputs": [
    {
     "data": {
      "text/html": [
       "<div>\n",
       "<style scoped>\n",
       "    .dataframe tbody tr th:only-of-type {\n",
       "        vertical-align: middle;\n",
       "    }\n",
       "\n",
       "    .dataframe tbody tr th {\n",
       "        vertical-align: top;\n",
       "    }\n",
       "\n",
       "    .dataframe thead th {\n",
       "        text-align: right;\n",
       "    }\n",
       "</style>\n",
       "<table border=\"1\" class=\"dataframe\">\n",
       "  <thead>\n",
       "    <tr style=\"text-align: right;\">\n",
       "      <th></th>\n",
       "      <th>机场编码</th>\n",
       "      <th>城市名称</th>\n",
       "    </tr>\n",
       "  </thead>\n",
       "  <tbody>\n",
       "    <tr>\n",
       "      <td>0</td>\n",
       "      <td>AHJ</td>\n",
       "      <td>阿坝</td>\n",
       "    </tr>\n",
       "    <tr>\n",
       "      <td>1</td>\n",
       "      <td>AYN</td>\n",
       "      <td>安阳</td>\n",
       "    </tr>\n",
       "    <tr>\n",
       "      <td>2</td>\n",
       "      <td>HSC</td>\n",
       "      <td>韶关</td>\n",
       "    </tr>\n",
       "    <tr>\n",
       "      <td>3</td>\n",
       "      <td>HCJ</td>\n",
       "      <td>河池</td>\n",
       "    </tr>\n",
       "    <tr>\n",
       "      <td>4</td>\n",
       "      <td>XNT</td>\n",
       "      <td>邢台</td>\n",
       "    </tr>\n",
       "  </tbody>\n",
       "</table>\n",
       "</div>"
      ],
      "text/plain": [
       "  机场编码 城市名称\n",
       "0  AHJ   阿坝\n",
       "1  AYN   安阳\n",
       "2  HSC   韶关\n",
       "3  HCJ   河池\n",
       "4  XNT   邢台"
      ]
     },
     "execution_count": 6,
     "metadata": {},
     "output_type": "execute_result"
    }
   ],
   "source": [
    "# 观察城市与机场对应数据\n",
    "airport_city.head()"
   ]
  },
  {
   "cell_type": "code",
   "execution_count": 7,
   "metadata": {},
   "outputs": [
    {
     "data": {
      "text/html": [
       "<div>\n",
       "<style scoped>\n",
       "    .dataframe tbody tr th:only-of-type {\n",
       "        vertical-align: middle;\n",
       "    }\n",
       "\n",
       "    .dataframe tbody tr th {\n",
       "        vertical-align: top;\n",
       "    }\n",
       "\n",
       "    .dataframe thead th {\n",
       "        text-align: right;\n",
       "    }\n",
       "</style>\n",
       "<table border=\"1\" class=\"dataframe\">\n",
       "  <thead>\n",
       "    <tr style=\"text-align: right;\">\n",
       "      <th></th>\n",
       "      <th>特情机场</th>\n",
       "      <th>收集时间</th>\n",
       "      <th>开始时间</th>\n",
       "      <th>结束时间</th>\n",
       "      <th>特情内容</th>\n",
       "    </tr>\n",
       "  </thead>\n",
       "  <tbody>\n",
       "    <tr>\n",
       "      <td>0</td>\n",
       "      <td>csx</td>\n",
       "      <td>2015-04-30 19:52:45Z</td>\n",
       "      <td>2015-05-01 12:00:00Z</td>\n",
       "      <td>2015-05-01 16:00:00Z</td>\n",
       "      <td>长沙机场航班延误黄色预警提示：预计明日（5月1日）12:00-16:00长沙黄花机场受雷雨天...</td>\n",
       "    </tr>\n",
       "    <tr>\n",
       "      <td>1</td>\n",
       "      <td>wuh</td>\n",
       "      <td>2015-05-01 08:13:39Z</td>\n",
       "      <td>2015-05-01 08:00:00Z</td>\n",
       "      <td>2015-05-01 12:00:00Z</td>\n",
       "      <td>目前，8时-12时雷雨，期间进出港航班可能受到影响。</td>\n",
       "    </tr>\n",
       "    <tr>\n",
       "      <td>2</td>\n",
       "      <td>khn</td>\n",
       "      <td>2015-05-01 08:14:18Z</td>\n",
       "      <td>2015-05-01 14:00:00Z</td>\n",
       "      <td>2015-05-01 17:00:00Z</td>\n",
       "      <td>预计，14时-17时小雷雨，期间进出港航班可能受到影响。</td>\n",
       "    </tr>\n",
       "    <tr>\n",
       "      <td>3</td>\n",
       "      <td>swa</td>\n",
       "      <td>2015-05-01 08:24:28Z</td>\n",
       "      <td>2015-05-01 13:00:00Z</td>\n",
       "      <td>2015-05-01 17:00:00Z</td>\n",
       "      <td>预计，13时-17时雷雨，期间进出港航班可能受到影响。</td>\n",
       "    </tr>\n",
       "    <tr>\n",
       "      <td>4</td>\n",
       "      <td>zha</td>\n",
       "      <td>2015-05-01 08:24:56Z</td>\n",
       "      <td>2015-05-01 13:00:00Z</td>\n",
       "      <td>2015-05-01 17:00:00Z</td>\n",
       "      <td>预计，13时-17时雷雨，期间进出港航班可能受到影响。</td>\n",
       "    </tr>\n",
       "  </tbody>\n",
       "</table>\n",
       "</div>"
      ],
      "text/plain": [
       "  特情机场                  收集时间                  开始时间                  结束时间  \\\n",
       "0  csx  2015-04-30 19:52:45Z  2015-05-01 12:00:00Z  2015-05-01 16:00:00Z   \n",
       "1  wuh  2015-05-01 08:13:39Z  2015-05-01 08:00:00Z  2015-05-01 12:00:00Z   \n",
       "2  khn  2015-05-01 08:14:18Z  2015-05-01 14:00:00Z  2015-05-01 17:00:00Z   \n",
       "3  swa  2015-05-01 08:24:28Z  2015-05-01 13:00:00Z  2015-05-01 17:00:00Z   \n",
       "4  zha  2015-05-01 08:24:56Z  2015-05-01 13:00:00Z  2015-05-01 17:00:00Z   \n",
       "\n",
       "                                                特情内容  \n",
       "0  长沙机场航班延误黄色预警提示：预计明日（5月1日）12:00-16:00长沙黄花机场受雷雨天...  \n",
       "1                         目前，8时-12时雷雨，期间进出港航班可能受到影响。  \n",
       "2                       预计，14时-17时小雷雨，期间进出港航班可能受到影响。  \n",
       "3                        预计，13时-17时雷雨，期间进出港航班可能受到影响。  \n",
       "4                        预计，13时-17时雷雨，期间进出港航班可能受到影响。  "
      ]
     },
     "execution_count": 7,
     "metadata": {},
     "output_type": "execute_result"
    }
   ],
   "source": [
    "# 观察特情数据\n",
    "special.head()"
   ]
  },
  {
   "cell_type": "markdown",
   "metadata": {},
   "source": [
    "#### 问题1：我们知道，一个有监督学习问题是总有一个需要预测的目标值，那么在这个问题中，你通过了解此问题的背景以及观察以上的数据，认为此任务中的目标值是什么？在已有的数据中，给出了预测目标值吗？如果没有的话，我们要如何获得这个目标值呢？\n",
    "\n",
    "回答问题：此任务的目标值为飞机起飞时间是否延误。已有数据中，没有给出预测目标值。可以根据计划起飞时间与实际起飞时间的差值来判定飞机是否延误。"
   ]
  },
  {
   "cell_type": "markdown",
   "metadata": {},
   "source": [
    "### 整理targets值\n",
    "\n",
    "根据以上对数据的初步观察，我们发现，这样的实际问题的数据是非常不规整的。数据的targets标签并没有显式地给出，而是需要自己整理。在这一小节，我们根据飞行数据 `flight_data` 整理出我们需要的targets。\n",
    "\n",
    "我们首先定义延误时间：实际起飞时间与计划起飞时间的差；然后，我们以延误时长是否超过3小时来定义targets。同时观察到“航班是否取消”这一列数据，针对数据中的“取消”的航班，我们直接可以将其延误时间设置成12小时。\n",
    "\n",
    "**建议**：用[numpy.where](https://numpy.org/devdocs/reference/generated/numpy.where.html?highlight=where#numpy.where)按条件选择延误时间是否超过三小时，如果超过三小时则延误目标值取1，否则延误目标值取0；另外也用[numpy.where](https://numpy.org/devdocs/reference/generated/numpy.where.html?highlight=where#numpy.where)按条件选择`flight_data['航班是否取消']`是否为 `取消`,如果是取消则直接可以将其延误时间设置成12小时。"
   ]
  },
  {
   "cell_type": "code",
   "execution_count": 8,
   "metadata": {},
   "outputs": [
    {
     "data": {
      "text/html": [
       "<div>\n",
       "<style scoped>\n",
       "    .dataframe tbody tr th:only-of-type {\n",
       "        vertical-align: middle;\n",
       "    }\n",
       "\n",
       "    .dataframe tbody tr th {\n",
       "        vertical-align: top;\n",
       "    }\n",
       "\n",
       "    .dataframe thead th {\n",
       "        text-align: right;\n",
       "    }\n",
       "</style>\n",
       "<table border=\"1\" class=\"dataframe\">\n",
       "  <thead>\n",
       "    <tr style=\"text-align: right;\">\n",
       "      <th></th>\n",
       "      <th>出发机场</th>\n",
       "      <th>到达机场</th>\n",
       "      <th>航班编号</th>\n",
       "      <th>计划起飞时间</th>\n",
       "      <th>计划到达时间</th>\n",
       "      <th>实际起飞时间</th>\n",
       "      <th>实际到达时间</th>\n",
       "      <th>飞机编号</th>\n",
       "      <th>航班是否取消</th>\n",
       "      <th>起飞延误时间</th>\n",
       "      <th>飞机延误目标</th>\n",
       "    </tr>\n",
       "  </thead>\n",
       "  <tbody>\n",
       "    <tr>\n",
       "      <td>0</td>\n",
       "      <td>HGH</td>\n",
       "      <td>DLC</td>\n",
       "      <td>CZ6328</td>\n",
       "      <td>1453809600</td>\n",
       "      <td>1453817100</td>\n",
       "      <td>1.453813e+09</td>\n",
       "      <td>1.453819e+09</td>\n",
       "      <td>1.0</td>\n",
       "      <td>正常</td>\n",
       "      <td>0.966667</td>\n",
       "      <td>0</td>\n",
       "    </tr>\n",
       "    <tr>\n",
       "      <td>1</td>\n",
       "      <td>SHA</td>\n",
       "      <td>XMN</td>\n",
       "      <td>FM9261</td>\n",
       "      <td>1452760800</td>\n",
       "      <td>1452767100</td>\n",
       "      <td>1.452763e+09</td>\n",
       "      <td>1.452768e+09</td>\n",
       "      <td>2.0</td>\n",
       "      <td>正常</td>\n",
       "      <td>0.500000</td>\n",
       "      <td>0</td>\n",
       "    </tr>\n",
       "    <tr>\n",
       "      <td>2</td>\n",
       "      <td>CAN</td>\n",
       "      <td>WNZ</td>\n",
       "      <td>ZH9597</td>\n",
       "      <td>1453800900</td>\n",
       "      <td>1453807500</td>\n",
       "      <td>1.453802e+09</td>\n",
       "      <td>1.453807e+09</td>\n",
       "      <td>3.0</td>\n",
       "      <td>正常</td>\n",
       "      <td>0.400000</td>\n",
       "      <td>0</td>\n",
       "    </tr>\n",
       "    <tr>\n",
       "      <td>3</td>\n",
       "      <td>SHA</td>\n",
       "      <td>ZUH</td>\n",
       "      <td>9C8819</td>\n",
       "      <td>1452120600</td>\n",
       "      <td>1452131100</td>\n",
       "      <td>1.452121e+09</td>\n",
       "      <td>1.452130e+09</td>\n",
       "      <td>4.0</td>\n",
       "      <td>正常</td>\n",
       "      <td>0.233333</td>\n",
       "      <td>0</td>\n",
       "    </tr>\n",
       "    <tr>\n",
       "      <td>4</td>\n",
       "      <td>SHE</td>\n",
       "      <td>TAO</td>\n",
       "      <td>TZ185</td>\n",
       "      <td>1452399000</td>\n",
       "      <td>1452406800</td>\n",
       "      <td>1.452400e+09</td>\n",
       "      <td>1.452404e+09</td>\n",
       "      <td>5.0</td>\n",
       "      <td>正常</td>\n",
       "      <td>0.250000</td>\n",
       "      <td>0</td>\n",
       "    </tr>\n",
       "  </tbody>\n",
       "</table>\n",
       "</div>"
      ],
      "text/plain": [
       "  出发机场 到达机场    航班编号      计划起飞时间      计划到达时间        实际起飞时间        实际到达时间  飞机编号  \\\n",
       "0  HGH  DLC  CZ6328  1453809600  1453817100  1.453813e+09  1.453819e+09   1.0   \n",
       "1  SHA  XMN  FM9261  1452760800  1452767100  1.452763e+09  1.452768e+09   2.0   \n",
       "2  CAN  WNZ  ZH9597  1453800900  1453807500  1.453802e+09  1.453807e+09   3.0   \n",
       "3  SHA  ZUH  9C8819  1452120600  1452131100  1.452121e+09  1.452130e+09   4.0   \n",
       "4  SHE  TAO   TZ185  1452399000  1452406800  1.452400e+09  1.452404e+09   5.0   \n",
       "\n",
       "  航班是否取消    起飞延误时间  飞机延误目标  \n",
       "0     正常  0.966667       0  \n",
       "1     正常  0.500000       0  \n",
       "2     正常  0.400000       0  \n",
       "3     正常  0.233333       0  \n",
       "4     正常  0.250000       0  "
      ]
     },
     "execution_count": 8,
     "metadata": {},
     "output_type": "execute_result"
    }
   ],
   "source": [
    "# TODO：计算 起飞延误时间，以小时为单位，注意将单位秒转换为单位小时\n",
    "flight_data['起飞延误时间'] = (flight_data['实际起飞时间'] - flight_data['计划起飞时间']) / 3600\n",
    "\n",
    "def delay_time(flight_data):\n",
    "    if flight_data['航班是否取消'] ==  '取消':\n",
    "        return 12\n",
    "    else:\n",
    "        return flight_data['起飞延误时间']\n",
    "    \n",
    "flight_data['起飞延误时间'] = flight_data.apply(delay_time, axis=1)\n",
    "\n",
    "# TODO：`light_data['航班是否取消']是否为 “取消”,如果是取消则直接可以将其延误时间设置成12小时\n",
    "flight_data[\"飞机延误目标\"] = np.where(flight_data['起飞延误时间']>3,1,0)\n",
    "flight_data.head()"
   ]
  },
  {
   "cell_type": "markdown",
   "metadata": {},
   "source": [
    "### 整理简单features\n",
    "\n",
    "在课程中，所讲解的案例使用的是比较干净的数据集，然而在真实业务场景里，却很少有直接可用的数据，我们往往需要从复杂的数据中提取重要的特征来帮助我们解决实际问题。正如当前所做的项目，我们无法直接使用所有数据，而是需要进行数据归并、删选、提取重要的特征。\n",
    "\n",
    "在整理完我们的目标值之后，我们可以开始进行特征工程。根据以上的几个文件，我们可以得到很多特征，在这里，我们先抽取一个简单的特征，学习一遍在处理实际数据时的特征工程流程。\n",
    "\n",
    "我们所抽取的特征是 `weather`中的“天气”数据。但我们发现 `weather` 中的数据并不是直接可用的，而是需要我们将该天气数据按照日期和城市对齐至飞行数据`flight_data`中。具体来说，我们参考下面的图片![merge_data](./figure/merge_feature.png)\n",
    "\n",
    "- 我们先要将天气 `weather`中的“城市”一列的数据，通过机场城市`airport_city`数据中的“城市名称”和“城市编码”，将 `weather`中的“城市”转化为“城市编码”，这样才能跟`flight_data`中的机场编码对应上。\n",
    "- 然后我们要将 `weather`中的“日期”一列的数据对齐至`flight_data`中“计划起飞时间”上。但是，我们发现“计划起飞时间”是以秒为单位的浮点格式数据，因此我们还需要将“计划起飞时间”转换成和`weather`中的“日期”一样的时间格式。\n",
    "\n",
    "接下来就是按以上的步骤进行操作"
   ]
  },
  {
   "cell_type": "markdown",
   "metadata": {},
   "source": [
    "首先，利用 [merge](https://pandas.pydata.org/pandas-docs/stable/reference/api/pandas.DataFrame.merge.html) ，按`airport_city`中的城市名称和城市编码，将 `weather`中的城市名称转化为城市编码。"
   ]
  },
  {
   "cell_type": "code",
   "execution_count": 9,
   "metadata": {},
   "outputs": [
    {
     "data": {
      "text/html": [
       "<div>\n",
       "<style scoped>\n",
       "    .dataframe tbody tr th:only-of-type {\n",
       "        vertical-align: middle;\n",
       "    }\n",
       "\n",
       "    .dataframe tbody tr th {\n",
       "        vertical-align: top;\n",
       "    }\n",
       "\n",
       "    .dataframe thead th {\n",
       "        text-align: right;\n",
       "    }\n",
       "</style>\n",
       "<table border=\"1\" class=\"dataframe\">\n",
       "  <thead>\n",
       "    <tr style=\"text-align: right;\">\n",
       "      <th></th>\n",
       "      <th>城市</th>\n",
       "      <th>天气</th>\n",
       "      <th>最低气温</th>\n",
       "      <th>最高气温</th>\n",
       "      <th>日期</th>\n",
       "      <th>机场编码</th>\n",
       "    </tr>\n",
       "  </thead>\n",
       "  <tbody>\n",
       "    <tr>\n",
       "      <td>0</td>\n",
       "      <td>厦门</td>\n",
       "      <td>阴</td>\n",
       "      <td>21</td>\n",
       "      <td>26</td>\n",
       "      <td>2015-05-01</td>\n",
       "      <td>XMN</td>\n",
       "    </tr>\n",
       "    <tr>\n",
       "      <td>5</td>\n",
       "      <td>龙岩</td>\n",
       "      <td>小雨转阴</td>\n",
       "      <td>20</td>\n",
       "      <td>26</td>\n",
       "      <td>2015-05-01</td>\n",
       "      <td>LCX</td>\n",
       "    </tr>\n",
       "    <tr>\n",
       "      <td>6</td>\n",
       "      <td>三明</td>\n",
       "      <td>小雨</td>\n",
       "      <td>20</td>\n",
       "      <td>25</td>\n",
       "      <td>2015-05-01</td>\n",
       "      <td>SQJ</td>\n",
       "    </tr>\n",
       "    <tr>\n",
       "      <td>8</td>\n",
       "      <td>南昌</td>\n",
       "      <td>小雨转中雨</td>\n",
       "      <td>22</td>\n",
       "      <td>27</td>\n",
       "      <td>2015-05-01</td>\n",
       "      <td>KHN</td>\n",
       "    </tr>\n",
       "    <tr>\n",
       "      <td>9</td>\n",
       "      <td>九江</td>\n",
       "      <td>雷阵雨转大雨</td>\n",
       "      <td>19</td>\n",
       "      <td>28</td>\n",
       "      <td>2015-05-01</td>\n",
       "      <td>JIU</td>\n",
       "    </tr>\n",
       "  </tbody>\n",
       "</table>\n",
       "</div>"
      ],
      "text/plain": [
       "   城市      天气 最低气温 最高气温          日期 机场编码\n",
       "0  厦门       阴   21   26  2015-05-01  XMN\n",
       "5  龙岩    小雨转阴   20   26  2015-05-01  LCX\n",
       "6  三明      小雨   20   25  2015-05-01  SQJ\n",
       "8  南昌   小雨转中雨   22   27  2015-05-01  KHN\n",
       "9  九江  雷阵雨转大雨   19   28  2015-05-01  JIU"
      ]
     },
     "execution_count": 9,
     "metadata": {},
     "output_type": "execute_result"
    }
   ],
   "source": [
    "# TODO: 将机场编码对应到天气数据上面，根据城市名，注意 weather 数据是【城市】，而 airport_city 是【城市名称】\n",
    "airport_city = airport_city.rename(columns={'城市名称':'城市'})\n",
    "airport_weather = pd.merge(weather, airport_city, on='城市', how='left')\n",
    "\n",
    "# # 去除缺失值和重复的机场天气信息\n",
    "airport_weather = airport_weather.dropna()\n",
    "airport_weather = airport_weather.drop_duplicates(['日期','机场编码'])\n",
    "airport_weather.head()"
   ]
  },
  {
   "cell_type": "markdown",
   "metadata": {},
   "source": [
    "我们发现，数据`airport_weather`中的“日期”格式和`flight_data`中的“计划起飞时间”格式是不一致的，为了能够将机场天气数据`airport_weather`按照“日期”归并至飞行数据`flight_data`中，我们首先需要将`flight_data`中的“计划起飞时间”格式转化成年月日统一格式。可以先用[to_datetime](https://pandas.pydata.org/pandas-docs/stable/reference/api/pandas.to_datetime.html)将浮点类型的数据转化为日期格式，然后再将日期格式的数据转化为 统一的 年月日格式。"
   ]
  },
  {
   "cell_type": "code",
   "execution_count": 10,
   "metadata": {},
   "outputs": [
    {
     "data": {
      "text/html": [
       "<div>\n",
       "<style scoped>\n",
       "    .dataframe tbody tr th:only-of-type {\n",
       "        vertical-align: middle;\n",
       "    }\n",
       "\n",
       "    .dataframe tbody tr th {\n",
       "        vertical-align: top;\n",
       "    }\n",
       "\n",
       "    .dataframe thead th {\n",
       "        text-align: right;\n",
       "    }\n",
       "</style>\n",
       "<table border=\"1\" class=\"dataframe\">\n",
       "  <thead>\n",
       "    <tr style=\"text-align: right;\">\n",
       "      <th></th>\n",
       "      <th>出发机场</th>\n",
       "      <th>到达机场</th>\n",
       "      <th>航班编号</th>\n",
       "      <th>计划起飞时间</th>\n",
       "      <th>计划到达时间</th>\n",
       "      <th>实际起飞时间</th>\n",
       "      <th>实际到达时间</th>\n",
       "      <th>飞机编号</th>\n",
       "      <th>航班是否取消</th>\n",
       "      <th>起飞延误时间</th>\n",
       "      <th>飞机延误目标</th>\n",
       "      <th>计划起飞日期tmp</th>\n",
       "      <th>计划起飞日期</th>\n",
       "    </tr>\n",
       "  </thead>\n",
       "  <tbody>\n",
       "    <tr>\n",
       "      <td>0</td>\n",
       "      <td>HGH</td>\n",
       "      <td>DLC</td>\n",
       "      <td>CZ6328</td>\n",
       "      <td>1453809600</td>\n",
       "      <td>1453817100</td>\n",
       "      <td>1.453813e+09</td>\n",
       "      <td>1.453819e+09</td>\n",
       "      <td>1.0</td>\n",
       "      <td>正常</td>\n",
       "      <td>0.966667</td>\n",
       "      <td>0</td>\n",
       "      <td>2016-01-26 12:00:00</td>\n",
       "      <td>2016-01-26</td>\n",
       "    </tr>\n",
       "    <tr>\n",
       "      <td>1</td>\n",
       "      <td>SHA</td>\n",
       "      <td>XMN</td>\n",
       "      <td>FM9261</td>\n",
       "      <td>1452760800</td>\n",
       "      <td>1452767100</td>\n",
       "      <td>1.452763e+09</td>\n",
       "      <td>1.452768e+09</td>\n",
       "      <td>2.0</td>\n",
       "      <td>正常</td>\n",
       "      <td>0.500000</td>\n",
       "      <td>0</td>\n",
       "      <td>2016-01-14 08:40:00</td>\n",
       "      <td>2016-01-14</td>\n",
       "    </tr>\n",
       "    <tr>\n",
       "      <td>2</td>\n",
       "      <td>CAN</td>\n",
       "      <td>WNZ</td>\n",
       "      <td>ZH9597</td>\n",
       "      <td>1453800900</td>\n",
       "      <td>1453807500</td>\n",
       "      <td>1.453802e+09</td>\n",
       "      <td>1.453807e+09</td>\n",
       "      <td>3.0</td>\n",
       "      <td>正常</td>\n",
       "      <td>0.400000</td>\n",
       "      <td>0</td>\n",
       "      <td>2016-01-26 09:35:00</td>\n",
       "      <td>2016-01-26</td>\n",
       "    </tr>\n",
       "    <tr>\n",
       "      <td>3</td>\n",
       "      <td>SHA</td>\n",
       "      <td>ZUH</td>\n",
       "      <td>9C8819</td>\n",
       "      <td>1452120600</td>\n",
       "      <td>1452131100</td>\n",
       "      <td>1.452121e+09</td>\n",
       "      <td>1.452130e+09</td>\n",
       "      <td>4.0</td>\n",
       "      <td>正常</td>\n",
       "      <td>0.233333</td>\n",
       "      <td>0</td>\n",
       "      <td>2016-01-06 22:50:00</td>\n",
       "      <td>2016-01-06</td>\n",
       "    </tr>\n",
       "    <tr>\n",
       "      <td>4</td>\n",
       "      <td>SHE</td>\n",
       "      <td>TAO</td>\n",
       "      <td>TZ185</td>\n",
       "      <td>1452399000</td>\n",
       "      <td>1452406800</td>\n",
       "      <td>1.452400e+09</td>\n",
       "      <td>1.452404e+09</td>\n",
       "      <td>5.0</td>\n",
       "      <td>正常</td>\n",
       "      <td>0.250000</td>\n",
       "      <td>0</td>\n",
       "      <td>2016-01-10 04:10:00</td>\n",
       "      <td>2016-01-10</td>\n",
       "    </tr>\n",
       "  </tbody>\n",
       "</table>\n",
       "</div>"
      ],
      "text/plain": [
       "  出发机场 到达机场    航班编号      计划起飞时间      计划到达时间        实际起飞时间        实际到达时间  飞机编号  \\\n",
       "0  HGH  DLC  CZ6328  1453809600  1453817100  1.453813e+09  1.453819e+09   1.0   \n",
       "1  SHA  XMN  FM9261  1452760800  1452767100  1.452763e+09  1.452768e+09   2.0   \n",
       "2  CAN  WNZ  ZH9597  1453800900  1453807500  1.453802e+09  1.453807e+09   3.0   \n",
       "3  SHA  ZUH  9C8819  1452120600  1452131100  1.452121e+09  1.452130e+09   4.0   \n",
       "4  SHE  TAO   TZ185  1452399000  1452406800  1.452400e+09  1.452404e+09   5.0   \n",
       "\n",
       "  航班是否取消    起飞延误时间  飞机延误目标           计划起飞日期tmp      计划起飞日期  \n",
       "0     正常  0.966667       0 2016-01-26 12:00:00  2016-01-26  \n",
       "1     正常  0.500000       0 2016-01-14 08:40:00  2016-01-14  \n",
       "2     正常  0.400000       0 2016-01-26 09:35:00  2016-01-26  \n",
       "3     正常  0.233333       0 2016-01-06 22:50:00  2016-01-06  \n",
       "4     正常  0.250000       0 2016-01-10 04:10:00  2016-01-10  "
      ]
     },
     "execution_count": 10,
     "metadata": {},
     "output_type": "execute_result"
    }
   ],
   "source": [
    "# TODO：利用 to_datetime  浮点类型的数据转化为时间数据，单位为秒，utc时间为True\n",
    "flight_data['计划起飞日期tmp'] = pd.to_datetime(flight_data['计划起飞时间'], unit='s')\n",
    "\n",
    "# 再将日期格式的数据转化为 统一的 年月日格式。\n",
    "flight_data['计划起飞日期'] = flight_data['计划起飞日期tmp'].apply(lambda x:x.strftime('%Y-%m-%d') if not(pd.isnull(x)) else None)\n",
    "flight_data.head()"
   ]
  },
  {
   "cell_type": "markdown",
   "metadata": {},
   "source": [
    "然后，再次利用[merge](https://pandas.pydata.org/pandas-docs/stable/reference/api/pandas.DataFrame.merge.html)，根据机场名称和日期信息，将机场天气`weather`数据对应到飞行数据 `flight_data` 中。注意，`flight_data`中是“出发机场”和“计划起飞日期”,而 `airport_weather`中对应的是“机场编码”和“日期”。"
   ]
  },
  {
   "cell_type": "code",
   "execution_count": 11,
   "metadata": {},
   "outputs": [
    {
     "data": {
      "text/plain": [
       "出发机场              0\n",
       "到达机场              0\n",
       "航班编号              0\n",
       "计划起飞时间            0\n",
       "计划到达时间            0\n",
       "实际起飞时间       323602\n",
       "实际到达时间       323124\n",
       "飞机编号         192258\n",
       "航班是否取消            0\n",
       "起飞延误时间         1716\n",
       "飞机延误目标            0\n",
       "计划起飞日期tmp         0\n",
       "计划起飞日期            0\n",
       "dtype: int64"
      ]
     },
     "execution_count": 11,
     "metadata": {},
     "output_type": "execute_result"
    }
   ],
   "source": [
    "flight_data.isna().sum()"
   ]
  },
  {
   "cell_type": "code",
   "execution_count": 12,
   "metadata": {},
   "outputs": [
    {
     "data": {
      "text/html": [
       "<div>\n",
       "<style scoped>\n",
       "    .dataframe tbody tr th:only-of-type {\n",
       "        vertical-align: middle;\n",
       "    }\n",
       "\n",
       "    .dataframe tbody tr th {\n",
       "        vertical-align: top;\n",
       "    }\n",
       "\n",
       "    .dataframe thead th {\n",
       "        text-align: right;\n",
       "    }\n",
       "</style>\n",
       "<table border=\"1\" class=\"dataframe\">\n",
       "  <thead>\n",
       "    <tr style=\"text-align: right;\">\n",
       "      <th></th>\n",
       "      <th>出发机场</th>\n",
       "      <th>到达机场</th>\n",
       "      <th>航班编号</th>\n",
       "      <th>计划起飞时间</th>\n",
       "      <th>计划到达时间</th>\n",
       "      <th>实际起飞时间</th>\n",
       "      <th>实际到达时间</th>\n",
       "      <th>飞机编号</th>\n",
       "      <th>航班是否取消</th>\n",
       "      <th>起飞延误时间</th>\n",
       "      <th>飞机延误目标</th>\n",
       "      <th>计划起飞日期tmp</th>\n",
       "      <th>计划起飞日期</th>\n",
       "      <th>airport_time</th>\n",
       "      <th>城市</th>\n",
       "      <th>天气</th>\n",
       "      <th>最低气温</th>\n",
       "      <th>最高气温</th>\n",
       "    </tr>\n",
       "  </thead>\n",
       "  <tbody>\n",
       "    <tr>\n",
       "      <td>0</td>\n",
       "      <td>HGH</td>\n",
       "      <td>DLC</td>\n",
       "      <td>CZ6328</td>\n",
       "      <td>1453809600</td>\n",
       "      <td>1453817100</td>\n",
       "      <td>1.453813e+09</td>\n",
       "      <td>1.453819e+09</td>\n",
       "      <td>1.0</td>\n",
       "      <td>正常</td>\n",
       "      <td>0.966667</td>\n",
       "      <td>0</td>\n",
       "      <td>2016-01-26 12:00:00</td>\n",
       "      <td>2016-01-26</td>\n",
       "      <td>2016-01-26HGH</td>\n",
       "      <td>杭州</td>\n",
       "      <td>晴转阴</td>\n",
       "      <td>1</td>\n",
       "      <td>7</td>\n",
       "    </tr>\n",
       "    <tr>\n",
       "      <td>1</td>\n",
       "      <td>HGH</td>\n",
       "      <td>BFJ</td>\n",
       "      <td>GJ8823</td>\n",
       "      <td>1453848600</td>\n",
       "      <td>1453858800</td>\n",
       "      <td>1.453850e+09</td>\n",
       "      <td>1.453860e+09</td>\n",
       "      <td>33.0</td>\n",
       "      <td>正常</td>\n",
       "      <td>0.250000</td>\n",
       "      <td>0</td>\n",
       "      <td>2016-01-26 22:50:00</td>\n",
       "      <td>2016-01-26</td>\n",
       "      <td>2016-01-26HGH</td>\n",
       "      <td>杭州</td>\n",
       "      <td>晴转阴</td>\n",
       "      <td>1</td>\n",
       "      <td>7</td>\n",
       "    </tr>\n",
       "    <tr>\n",
       "      <td>2</td>\n",
       "      <td>HGH</td>\n",
       "      <td>GYS</td>\n",
       "      <td>CA1773</td>\n",
       "      <td>1453767600</td>\n",
       "      <td>1453777800</td>\n",
       "      <td>1.453768e+09</td>\n",
       "      <td>1.453778e+09</td>\n",
       "      <td>1528.0</td>\n",
       "      <td>正常</td>\n",
       "      <td>0.183333</td>\n",
       "      <td>0</td>\n",
       "      <td>2016-01-26 00:20:00</td>\n",
       "      <td>2016-01-26</td>\n",
       "      <td>2016-01-26HGH</td>\n",
       "      <td>杭州</td>\n",
       "      <td>晴转阴</td>\n",
       "      <td>1</td>\n",
       "      <td>7</td>\n",
       "    </tr>\n",
       "    <tr>\n",
       "      <td>3</td>\n",
       "      <td>HGH</td>\n",
       "      <td>HRB</td>\n",
       "      <td>CZ6665</td>\n",
       "      <td>1453780800</td>\n",
       "      <td>1453791900</td>\n",
       "      <td>1.453781e+09</td>\n",
       "      <td>1.453792e+09</td>\n",
       "      <td>1185.0</td>\n",
       "      <td>正常</td>\n",
       "      <td>-0.016667</td>\n",
       "      <td>0</td>\n",
       "      <td>2016-01-26 04:00:00</td>\n",
       "      <td>2016-01-26</td>\n",
       "      <td>2016-01-26HGH</td>\n",
       "      <td>杭州</td>\n",
       "      <td>晴转阴</td>\n",
       "      <td>1</td>\n",
       "      <td>7</td>\n",
       "    </tr>\n",
       "    <tr>\n",
       "      <td>4</td>\n",
       "      <td>HGH</td>\n",
       "      <td>SHE</td>\n",
       "      <td>CZ3909</td>\n",
       "      <td>1453784700</td>\n",
       "      <td>1453794300</td>\n",
       "      <td>1.453785e+09</td>\n",
       "      <td>1.453794e+09</td>\n",
       "      <td>433.0</td>\n",
       "      <td>正常</td>\n",
       "      <td>0.166667</td>\n",
       "      <td>0</td>\n",
       "      <td>2016-01-26 05:05:00</td>\n",
       "      <td>2016-01-26</td>\n",
       "      <td>2016-01-26HGH</td>\n",
       "      <td>杭州</td>\n",
       "      <td>晴转阴</td>\n",
       "      <td>1</td>\n",
       "      <td>7</td>\n",
       "    </tr>\n",
       "  </tbody>\n",
       "</table>\n",
       "</div>"
      ],
      "text/plain": [
       "  出发机场 到达机场    航班编号      计划起飞时间      计划到达时间        实际起飞时间        实际到达时间  \\\n",
       "0  HGH  DLC  CZ6328  1453809600  1453817100  1.453813e+09  1.453819e+09   \n",
       "1  HGH  BFJ  GJ8823  1453848600  1453858800  1.453850e+09  1.453860e+09   \n",
       "2  HGH  GYS  CA1773  1453767600  1453777800  1.453768e+09  1.453778e+09   \n",
       "3  HGH  HRB  CZ6665  1453780800  1453791900  1.453781e+09  1.453792e+09   \n",
       "4  HGH  SHE  CZ3909  1453784700  1453794300  1.453785e+09  1.453794e+09   \n",
       "\n",
       "     飞机编号 航班是否取消    起飞延误时间  飞机延误目标           计划起飞日期tmp      计划起飞日期  \\\n",
       "0     1.0     正常  0.966667       0 2016-01-26 12:00:00  2016-01-26   \n",
       "1    33.0     正常  0.250000       0 2016-01-26 22:50:00  2016-01-26   \n",
       "2  1528.0     正常  0.183333       0 2016-01-26 00:20:00  2016-01-26   \n",
       "3  1185.0     正常 -0.016667       0 2016-01-26 04:00:00  2016-01-26   \n",
       "4   433.0     正常  0.166667       0 2016-01-26 05:05:00  2016-01-26   \n",
       "\n",
       "    airport_time  城市   天气 最低气温 最高气温  \n",
       "0  2016-01-26HGH  杭州  晴转阴    1    7  \n",
       "1  2016-01-26HGH  杭州  晴转阴    1    7  \n",
       "2  2016-01-26HGH  杭州  晴转阴    1    7  \n",
       "3  2016-01-26HGH  杭州  晴转阴    1    7  \n",
       "4  2016-01-26HGH  杭州  晴转阴    1    7  "
      ]
     },
     "execution_count": 12,
     "metadata": {},
     "output_type": "execute_result"
    }
   ],
   "source": [
    "airport_weather['airport_time'] = airport_weather['日期']+airport_weather['机场编码']\n",
    "airport_weather = airport_weather.drop(['机场编码','日期'], axis=1)\n",
    "flight_data['airport_time'] = flight_data['计划起飞日期'] + flight_data['出发机场']\n",
    "\n",
    "# TODO: merge flight_data 和 airport_weather\n",
    "flight_data = pd.merge(flight_data, airport_weather, on='airport_time', how='inner')\n",
    "flight_data.head()"
   ]
  },
  {
   "cell_type": "markdown",
   "metadata": {},
   "source": [
    "## 建立简单模型\n",
    "\n",
    "### 特征处理\n",
    "我们可以先建立一个最简单的模型，从飞行数据`flight_data`中挑选2列数据作为features，其中一个是我们刚刚构造好的“天气”数据，另外一个feature由你来选择。注意，其中“飞机延误时间”和“飞机延误目标”并不是feature，而是targets，所以不能选择这两列作为features。\n",
    "\n",
    "#### 问题2：你选择的特征是特征是什么？说说你选择这个feature的理由。\n",
    "\n",
    "回答问题：我选择的特征是起飞时刻，在同一个机场一天中不同的时间段机场的繁忙程度不同，白天起飞的航班多，就可能导致飞机延误。"
   ]
  },
  {
   "cell_type": "code",
   "execution_count": 13,
   "metadata": {},
   "outputs": [
    {
     "data": {
      "text/html": [
       "<div>\n",
       "<style scoped>\n",
       "    .dataframe tbody tr th:only-of-type {\n",
       "        vertical-align: middle;\n",
       "    }\n",
       "\n",
       "    .dataframe tbody tr th {\n",
       "        vertical-align: top;\n",
       "    }\n",
       "\n",
       "    .dataframe thead th {\n",
       "        text-align: right;\n",
       "    }\n",
       "</style>\n",
       "<table border=\"1\" class=\"dataframe\">\n",
       "  <thead>\n",
       "    <tr style=\"text-align: right;\">\n",
       "      <th></th>\n",
       "      <th>天气</th>\n",
       "      <th>起飞时刻</th>\n",
       "    </tr>\n",
       "  </thead>\n",
       "  <tbody>\n",
       "    <tr>\n",
       "      <td>0</td>\n",
       "      <td>晴转阴</td>\n",
       "      <td>12</td>\n",
       "    </tr>\n",
       "    <tr>\n",
       "      <td>1</td>\n",
       "      <td>晴转阴</td>\n",
       "      <td>22</td>\n",
       "    </tr>\n",
       "    <tr>\n",
       "      <td>2</td>\n",
       "      <td>晴转阴</td>\n",
       "      <td>00</td>\n",
       "    </tr>\n",
       "    <tr>\n",
       "      <td>3</td>\n",
       "      <td>晴转阴</td>\n",
       "      <td>04</td>\n",
       "    </tr>\n",
       "    <tr>\n",
       "      <td>4</td>\n",
       "      <td>晴转阴</td>\n",
       "      <td>05</td>\n",
       "    </tr>\n",
       "  </tbody>\n",
       "</table>\n",
       "</div>"
      ],
      "text/plain": [
       "    天气 起飞时刻\n",
       "0  晴转阴   12\n",
       "1  晴转阴   22\n",
       "2  晴转阴   00\n",
       "3  晴转阴   04\n",
       "4  晴转阴   05"
      ]
     },
     "execution_count": 13,
     "metadata": {},
     "output_type": "execute_result"
    }
   ],
   "source": [
    "flight_data['起飞时刻'] = flight_data['计划起飞日期tmp'].apply(lambda x:x.strftime('%H') if not(pd.isnull(x)) else None)\n",
    "\n",
    "# TODO: 选择一列数据作为feature\n",
    "features = [\"天气\"]\n",
    "add_to_feature = \"起飞时刻\"\n",
    "features.append(add_to_feature)\n",
    "data = flight_data[features]\n",
    "\n",
    "data.head()"
   ]
  },
  {
   "cell_type": "code",
   "execution_count": 14,
   "metadata": {},
   "outputs": [],
   "source": [
    "# TODO：从 flight_data 中取出目标\"飞机延误目标\"的值，numpy格式的值\n",
    "targets = flight_data['飞机延误目标']\n",
    "\n",
    "# train_data 的数据量和 targets 的数据量一定是相等的\n",
    "assert len(data) == len(targets)"
   ]
  },
  {
   "cell_type": "markdown",
   "metadata": {},
   "source": [
    "到这里，我们已经提取完并得到两个特征，但是现在的特征是非数值类型的，那么我们需要先对这些非数值类型的特征进行编码。\n",
    "\n",
    "从上面的**数据探索**中的表中，我们可以看到有几个属性的每一条记录都是非数字的。通常情况下，学习算法期望输入是数字的，这要求非数字的特征（称为类别变量）被转换。转换类别变量的一种流行的方法是使用**独热编码**方案。独热编码为每一个非数字特征的每一个可能的类别创建一个_“虚拟”_变量。例如，假设`someFeature`有三个可能的取值`A`，`B`或者`C`，。我们将把这个特征编码成`someFeature_A`, `someFeature_B`和`someFeature_C`.\n",
    "\n",
    "| 特征X |                    | 特征X_A | 特征X_B | 特征X_C |\n",
    "| :-: |                            | :-: | :-: | :-: |\n",
    "|  B  |  | 0 | 1 | 0 |\n",
    "|  C  | ----> 独热编码 ----> | 0 | 0 | 1 |\n",
    "|  A  |  | 1 | 0 | 0 |\n",
    "\n",
    "因此，**独热编码**将会对特征进行扩维，例如上面对例子，将对单个特征`someFeature` 扩充成3个特征`someFeature_A`, `someFeature_B`和`someFeature_C`，这种独热编码，你可以参考one-hot[get_dummies](https://pandas.pydata.org/pandas-docs/stable/reference/api/pandas.get_dummies.html) 解释和实现以及使用。\n",
    "\n",
    "另一种对非数值类型对特征进行编码对方法是直接对字符编号，例如 `someFeature` 由 1.0、2.0、3.0 来作为特征值进入模型对计算。更进一步来说，这种方法如果类型比较多对话，将会导致特征空间太离散，影响模型对建模性能。于是我们需要对这些数值进行归一化，针对该问题，在我们实际业务场景中经常使用对解决方案是使用的编码方式是 [sklearn.preprocessing.LabelEncoder.fit_transform](https://scikit-learn.org/stable/modules/generated/sklearn.preprocessing.LabelEncoder.html#sklearn.preprocessing.LabelEncoder.fit_transform)，它会将离散的字符映射到一个数值，用以表示该特征并参与模型计算。\n",
    "\n",
    "\n",
    "#### 问题3：请参考文档简单介绍一下 `LabelEncoder.fit_transform`，说一下该方法和独热表示one-hot[get_dummies](https://pandas.pydata.org/pandas-docs/stable/reference/api/pandas.get_dummies.html)有什么区别，并根据刚刚构造好对`天气`特征包含对类别数量等统计信息来回答这里为什么用 `fit_transform`？\n",
    "\n",
    "回答问题：两者都适用离散特征的编码。独热编码是将属性中离散值扩展为独立的特征，独热编码解决了分类器不好处理属性数据的问题，在一定程度上也起到了扩充特征的作用。但当类别的数量特别多的时候，特征空间会变的非常大。将离散型特征进行独热编码是为了让距离计算更合理，但有些基于树的算法在处理变量时，并不是基于向量空间度量，数值只是个类别符号，即没有偏序关系，所以不用进行独热编码。在接下来的模型中，我们将用基于树的模型，因此可以不用独热编码，而用标签编码。"
   ]
  },
  {
   "cell_type": "code",
   "execution_count": null,
   "metadata": {},
   "outputs": [],
   "source": []
  },
  {
   "cell_type": "markdown",
   "metadata": {},
   "source": [
    "判断数据中是否存在缺省值的情况，如果存在，请处理缺省值。\n",
    "\n",
    "建议，你可以通过 `any(isnull())`[isnull](https://pandas.pydata.org/pandas-docs/stable/reference/api/pandas.isnull.html)去判断数据中是否存在缺失情况；然后通过[fillna](https://pandas.pydata.org/pandas-docs/stable/reference/api/pandas.DataFrame.fillna.html)去填补缺省值"
   ]
  },
  {
   "cell_type": "code",
   "execution_count": 15,
   "metadata": {},
   "outputs": [
    {
     "data": {
      "text/plain": [
       "天气      False\n",
       "起飞时刻    False\n",
       "dtype: bool"
      ]
     },
     "execution_count": 15,
     "metadata": {},
     "output_type": "execute_result"
    }
   ],
   "source": [
    "# TODO：判断并处理`data`中的缺省值\n",
    "data.isnull().any()"
   ]
  },
  {
   "cell_type": "code",
   "execution_count": 16,
   "metadata": {},
   "outputs": [
    {
     "name": "stderr",
     "output_type": "stream",
     "text": [
      "C:\\ProgramData\\Anaconda3\\lib\\site-packages\\ipykernel_launcher.py:4: SettingWithCopyWarning: \n",
      "A value is trying to be set on a copy of a slice from a DataFrame.\n",
      "Try using .loc[row_indexer,col_indexer] = value instead\n",
      "\n",
      "See the caveats in the documentation: http://pandas.pydata.org/pandas-docs/stable/user_guide/indexing.html#returning-a-view-versus-a-copy\n",
      "  after removing the cwd from sys.path.\n"
     ]
    }
   ],
   "source": [
    "from sklearn import preprocessing\n",
    "string_encoder = preprocessing.LabelEncoder()\n",
    "# 我们首先对天气特征的进行编码\n",
    "data[\"天气\"] = string_encoder.fit_transform(data[\"天气\"])\n",
    "\n",
    "# TODO：对你选择的特征进行编码，如果你选择的是数值类型的特征，那么你可以按照前面所学知识进行归一化等处理\n",
    "scaler = preprocessing.MinMaxScaler()\n",
    "data = scaler.fit_transform(data)"
   ]
  },
  {
   "cell_type": "markdown",
   "metadata": {},
   "source": [
    "### 模型构建\n",
    "\n",
    "现在我们可以根据上面构造好的feature和target来构建一个简单的模型。\n",
    "\n",
    "- 第一步：使用`sklearn.model_selection.train_test_split`按**0.2**的测试比例切分训练集和测试集；\n",
    "- 第二步：继续使用`sklearn.model_selection.train_test_split`按**0.2**的测试比例切分训练集和测试集；\n"
   ]
  },
  {
   "cell_type": "code",
   "execution_count": 17,
   "metadata": {},
   "outputs": [
    {
     "name": "stdout",
     "output_type": "stream",
     "text": [
      "Training set has 4733699 samples.\n",
      "Validation set has 1183425 samples.\n",
      "Testing set has 1479282 samples.\n"
     ]
    }
   ],
   "source": [
    "# 导入 train_test_split\n",
    "from sklearn.model_selection import train_test_split\n",
    "\n",
    "# 将'data'和'targets'数据切分成训练集和测试集\n",
    "X_train, X_test, y_train, y_test = train_test_split(data, targets, test_size = 0.2, random_state = 0)\n",
    "\n",
    "# 将'X_train'和'y_train'进一步切分为训练集和验证集\n",
    "X_train, X_val, y_train, y_val = train_test_split(X_train, y_train, test_size=0.2, random_state=0)\n",
    "\n",
    "# 显示切分的结果\n",
    "print (\"Training set has {} samples.\".format(X_train.shape[0]))\n",
    "print (\"Validation set has {} samples.\".format(X_val.shape[0]))\n",
    "print (\"Testing set has {} samples.\".format(X_test.shape[0]))"
   ]
  },
  {
   "cell_type": "markdown",
   "metadata": {},
   "source": [
    "### 监督学习模型\n",
    "### 模型应用\n",
    "\n",
    "你能够在 [`scikit-learn`](http://scikit-learn.org/stable/supervised_learning.html) 中选择以下监督学习模型\n",
    "- 高斯朴素贝叶斯 (GaussianNB)\n",
    "- 决策树 (DecisionTree)\n",
    "- 集成方法 (Bagging, AdaBoost, Random Forest, Gradient Boosting)\n",
    "- K近邻 (K Nearest Neighbors)\n",
    "- 随机梯度下降分类器 (SGDC)\n",
    "- 支撑向量机 (SVM)\n",
    "- Logistic回归（LogisticRegression）\n",
    "\n",
    "\n",
    "\n",
    "#### 问题4: 从上面的监督学习模型中选择两个适合我们这个问题的模型，并回答相应问题。然后从中选择一个先在我们等数据集上进行训练和测试，这一步是为了初步感受模型在此数据集上等表现。"
   ]
  },
  {
   "cell_type": "markdown",
   "metadata": {},
   "source": [
    "#### 模型1\n",
    "\n",
    "**模型名称**\n",
    "\n",
    "回答：Logistic回归（LogisticRegression）\n",
    "\n",
    "\n",
    "**描述一个该模型在真实世界的一个应用场景。（你需要为此做点研究，并给出你的引用出处）**\n",
    "\n",
    "回答：[信用卡评分](https://www.jianshu.com/p/4c55fa92a9ac)\n",
    "\n",
    "**这个模型的优势是什么？他什么情况下表现最好？**\n",
    "\n",
    "回答：\n",
    "\n",
    "(一) 优点\n",
    ">1. 计算量非常小，速度很快，存储资源低，容易实现\n",
    "2. 预测结果是界于0和1之间的概率\n",
    "3. 可以适用于连续性和类别性变量\n",
    "\n",
    "(二) 什么情况下表现最好\n",
    ">- 当特征不相关，适用线性分类，且特征维度远小于数据量\n",
    "\n",
    "**这个模型的缺点是什么？什么条件下它表现很差？**\n",
    "\n",
    "回答：\n",
    "\n",
    "(一) 缺点\n",
    "> 1. 容易欠拟合，分类精度可能不高\n",
    "2. 对模型中自变量多重共线性较为敏感\n",
    "3. 当特征空间很大时，逻辑回归的性能不是很好\n",
    "4. 只能处理两分类问题，且必须线性可分\n",
    "\n",
    "(二) 什么条件下它表现很差\n",
    ">- 特征相关性比较强、特征空间很大时\n",
    "\n",
    "**根据我们当前数据集的特点，为什么这个模型适合这个问题。**\n",
    "\n",
    "回答：逻辑回归抵抗一定的干扰，执行速度快，适合二分类问题。"
   ]
  },
  {
   "cell_type": "markdown",
   "metadata": {},
   "source": [
    "#### 模型2\n",
    "\n",
    "**模型名称**\n",
    "\n",
    "回答：随机森林 (Random Forest)\n",
    "\n",
    "\n",
    "**描述一个该模型在真实世界的一个应用场景。（你需要为此做点研究，并给出你的引用出处）**\n",
    "\n",
    "回答：[银行利用随机森林对信用卡逾期行为分类](http://xueshu.baidu.com/usercenter/paper/show?paperid=1h0u0ma0wf570gp0uh650410jq025596&site=xueshu_se)\n",
    "\n",
    "**这个模型的优势是什么？他什么情况下表现最好？**\n",
    "\n",
    "回答：\n",
    "\n",
    "(一) 优点\n",
    ">1. 既可以用于分类又可以解决回归问题\n",
    "2. 即使有部分数据缺失，随机森林也能保持很高的分类精度\n",
    "3. 决策树的增加并不能使随机森林出现过度拟合\n",
    "4. 可以对数量庞大的较高维数据进行分类\n",
    "5. 训练速度快，可以得到变量重要性排序\n",
    "6. 在训练过程中，能够检测到feature间的互相影响。\n",
    "\n",
    "(二) 什么情况下表现最好\n",
    ">- 解决二分类问题\n",
    "- 数据维度相对低，同时对准确性有较高要求时，这种集成学习方法有较好效果。\n",
    "\n",
    "**这个模型的缺点是什么？什么条件下它表现很差？**\n",
    "\n",
    "回答：\n",
    "\n",
    "(一) 缺点\n",
    "> 1. 随机森林解决回归问题的效果不如分类问题，因为它的预测不是天生连续的\n",
    "2. 训练数据噪声较大，也会造成随机森林的过度拟合\n",
    "3. 训练和预测速度比线性模型要慢\n",
    "4. 占用内存大\n",
    "\n",
    "(二) 什么条件下它表现很差\n",
    ">- 高维稀疏数据\n",
    "- 对算法的训练的效率要求较高\n",
    "\n",
    "**根据我们当前数据集的特点，为什么这个模型适合这个问题。**\n",
    "\n",
    "回答：当前数据集数据量较大、维度低，属于二分类问题"
   ]
  },
  {
   "cell_type": "markdown",
   "metadata": {},
   "source": [
    "### 评价模型性能\n",
    "在这一部分中，我们选择上面两个模型之一来训练。\n",
    "\n",
    "在这个，分类预测问题中，我们使用**准确率**作为评价模型等标准，同时能够使用**F-beta score**作为评价指标，这样能够同时考虑查准率和查全率：\n",
    "\n",
    "$$ F_{\\beta} = (1 + \\beta^2) \\cdot \\frac{precision \\cdot recall}{\\left( \\beta^2 \\cdot precision \\right) + recall} $$\n",
    "\n",
    "\n",
    "尤其是，当 $\\beta = 0.5$ 的时候更多的强调查准率，这叫做**F$_{0.5}$ score** （或者为了简单叫做F-score）。\n",
    "\n",
    "\n",
    "由于数据量比较大，模型训练可能需要一些时间来运行！"
   ]
  },
  {
   "cell_type": "code",
   "execution_count": 18,
   "metadata": {},
   "outputs": [
    {
     "name": "stderr",
     "output_type": "stream",
     "text": [
      "C:\\ProgramData\\Anaconda3\\lib\\site-packages\\sklearn\\ensemble\\forest.py:245: FutureWarning: The default value of n_estimators will change from 10 in version 0.20 to 100 in 0.22.\n",
      "  \"10 in version 0.20 to 100 in 0.22.\", FutureWarning)\n"
     ]
    },
    {
     "name": "stdout",
     "output_type": "stream",
     "text": [
      "Train and valid successed. F-score: 0.03531081214867943, Acc: 0.92689946553436\n"
     ]
    }
   ],
   "source": [
    "# TODO：从sklearn中导入两个评价指标 - fbeta_score和accuracy_score\n",
    "from sklearn.metrics import fbeta_score, accuracy_score\n",
    "\n",
    "# TODO：从sklearn中导入上面你选择等一个监督学习模型\n",
    "from sklearn.ensemble import RandomForestClassifier\n",
    "\n",
    "# TODO：设置模型参数，初始化这个模型\n",
    "model = RandomForestClassifier(max_depth=50, min_samples_split=8)\n",
    "\n",
    "# TODO：在训练集 X_train, y_train 上训练该模型\n",
    "model.fit(X_train, y_train)\n",
    "\n",
    "# TODO：在验证集 X_val, y_val 上预测并计算socre fbeta_score和accuracy_score\n",
    "y_pred = model.predict(X_val)\n",
    "f_score = fbeta_score(y_val, y_pred, beta=0.5)\n",
    "acc = accuracy_score(y_val, y_pred)\n",
    "\n",
    "# 打印 fbeta_score和accuracy_score\n",
    "print(\"Train and valid successed. F-score: {}, Acc: {}\".format(f_score, acc))"
   ]
  },
  {
   "cell_type": "markdown",
   "metadata": {},
   "source": [
    "#### 问题5： 用通俗的话解释模型\n",
    "\n",
    "*用一到两段话，用外行也听得懂的话来解释最终模型是如何工作的。你需要解释所选模型的主要特点。例如，这个模型是怎样被训练的，它又是如何做出预测的。避免使用高级的数学或技术术语，不要使用公式或特定的算法名词。*\n",
    "\n",
    "回答问题：随机森林类似于选举投票。假设有1000颗树组成了一个森林，比如我们要检测图片中的一只手。每棵树都会随机选取样本和特征，对同一个特征每棵树都会有不同的结果，然后根据其得出一个分类结果，然后将这些结果以投票的方式的保存，票数最高的分类结果则为这个森林的分类结果。"
   ]
  },
  {
   "cell_type": "markdown",
   "metadata": {},
   "source": [
    "### 练习：模型调优\n",
    "调节选择的模型的参数。使用网格搜索（GridSearchCV）来至少调整模型的重要参数（至少调整一个），这个参数至少需尝试3个不同的值。你要使用整个训练集来完成这个过程。在接下来的代码单元中，你需要实现以下功能：\n",
    "\n",
    "- 导入[`sklearn.model_selection.GridSearchCV`](http://scikit-learn.org/stable/modules/generated/sklearn.model_selection.GridSearchCV.html) 和 [`sklearn.metrics.make_scorer`](http://scikit-learn.org/stable/modules/generated/sklearn.metrics.make_scorer.html).\n",
    "- 初始化你选择的分类器，并将其存储在`clf`中。\n",
    " - 设置`random_state` (如果有这个参数)。\n",
    "- 创建一个对于这个模型你希望调整参数的字典。\n",
    " - 例如: parameters = {'parameter' : [list of values]}。\n",
    " - **注意：** 如果你的学习器有 `max_features` 参数，请不要调节它！\n",
    "- 使用`make_scorer`来创建一个`fbeta_score`评分对象（设置$\\beta = 0.5$）。\n",
    "- 在分类器clf上用'scorer'作为评价函数运行网格搜索，并将结果存储在grid_obj中。\n",
    "- 用训练集（X_train, y_train）训练grid search object,并将结果存储在`grid_fit`中。\n",
    "\n",
    "**注意：** 取决于你选择的参数列表，下面实现的代码可能需要花一些时间运行！"
   ]
  },
  {
   "cell_type": "code",
   "execution_count": 19,
   "metadata": {
    "scrolled": true
   },
   "outputs": [
    {
     "name": "stderr",
     "output_type": "stream",
     "text": [
      "C:\\ProgramData\\Anaconda3\\lib\\site-packages\\sklearn\\model_selection\\_split.py:1978: FutureWarning: The default value of cv will change from 3 to 5 in version 0.22. Specify it explicitly to silence this warning.\n",
      "  warnings.warn(CV_WARNING, FutureWarning)\n",
      "C:\\ProgramData\\Anaconda3\\lib\\site-packages\\sklearn\\ensemble\\forest.py:245: FutureWarning: The default value of n_estimators will change from 10 in version 0.20 to 100 in 0.22.\n",
      "  \"10 in version 0.20 to 100 in 0.22.\", FutureWarning)\n",
      "C:\\ProgramData\\Anaconda3\\lib\\site-packages\\sklearn\\ensemble\\forest.py:245: FutureWarning: The default value of n_estimators will change from 10 in version 0.20 to 100 in 0.22.\n",
      "  \"10 in version 0.20 to 100 in 0.22.\", FutureWarning)\n",
      "C:\\ProgramData\\Anaconda3\\lib\\site-packages\\sklearn\\ensemble\\forest.py:245: FutureWarning: The default value of n_estimators will change from 10 in version 0.20 to 100 in 0.22.\n",
      "  \"10 in version 0.20 to 100 in 0.22.\", FutureWarning)\n",
      "C:\\ProgramData\\Anaconda3\\lib\\site-packages\\sklearn\\ensemble\\forest.py:245: FutureWarning: The default value of n_estimators will change from 10 in version 0.20 to 100 in 0.22.\n",
      "  \"10 in version 0.20 to 100 in 0.22.\", FutureWarning)\n",
      "C:\\ProgramData\\Anaconda3\\lib\\site-packages\\sklearn\\ensemble\\forest.py:245: FutureWarning: The default value of n_estimators will change from 10 in version 0.20 to 100 in 0.22.\n",
      "  \"10 in version 0.20 to 100 in 0.22.\", FutureWarning)\n",
      "C:\\ProgramData\\Anaconda3\\lib\\site-packages\\sklearn\\ensemble\\forest.py:245: FutureWarning: The default value of n_estimators will change from 10 in version 0.20 to 100 in 0.22.\n",
      "  \"10 in version 0.20 to 100 in 0.22.\", FutureWarning)\n",
      "C:\\ProgramData\\Anaconda3\\lib\\site-packages\\sklearn\\ensemble\\forest.py:245: FutureWarning: The default value of n_estimators will change from 10 in version 0.20 to 100 in 0.22.\n",
      "  \"10 in version 0.20 to 100 in 0.22.\", FutureWarning)\n",
      "C:\\ProgramData\\Anaconda3\\lib\\site-packages\\sklearn\\ensemble\\forest.py:245: FutureWarning: The default value of n_estimators will change from 10 in version 0.20 to 100 in 0.22.\n",
      "  \"10 in version 0.20 to 100 in 0.22.\", FutureWarning)\n",
      "C:\\ProgramData\\Anaconda3\\lib\\site-packages\\sklearn\\ensemble\\forest.py:245: FutureWarning: The default value of n_estimators will change from 10 in version 0.20 to 100 in 0.22.\n",
      "  \"10 in version 0.20 to 100 in 0.22.\", FutureWarning)\n",
      "C:\\ProgramData\\Anaconda3\\lib\\site-packages\\sklearn\\ensemble\\forest.py:245: FutureWarning: The default value of n_estimators will change from 10 in version 0.20 to 100 in 0.22.\n",
      "  \"10 in version 0.20 to 100 in 0.22.\", FutureWarning)\n",
      "C:\\ProgramData\\Anaconda3\\lib\\site-packages\\sklearn\\ensemble\\forest.py:245: FutureWarning: The default value of n_estimators will change from 10 in version 0.20 to 100 in 0.22.\n",
      "  \"10 in version 0.20 to 100 in 0.22.\", FutureWarning)\n"
     ]
    }
   ],
   "source": [
    "# TODO：导入'GridSearchCV', 'make_scorer'和其他一些需要的库\n",
    "from sklearn.model_selection import GridSearchCV\n",
    "from sklearn.metrics import make_scorer\n",
    "\n",
    "# TODO：初始化分类器\n",
    "clf = RandomForestClassifier(random_state=0)\n",
    "\n",
    "# TODO：创建你希望调节的参数列表\n",
    "parameters = {'max_depth':[50,55,60], 'min_samples_split':[8]}\n",
    "\n",
    "# TODO：创建一个fbeta_score打分对象\n",
    "scorer = make_scorer(fbeta_score, beta=0.5)\n",
    "\n",
    "# TODO：在分类器上使用网格搜索，使用'scorer'作为评价函数\n",
    "grid_obj = GridSearchCV(clf, parameters, scoring=scorer)\n",
    "\n",
    "# TODO：用训练数据拟合网格搜索对象并找到最佳参数\n",
    "grid_obj.fit(X_train, y_train)\n",
    "\n",
    "# 得到estimator\n",
    "best_clf = grid_obj.best_estimator_\n",
    "\n",
    "# 使用没有调优的模型做预测\n",
    "predictions = (clf.fit(X_train, y_train)).predict(X_val)\n",
    "best_predictions = best_clf.predict(X_val)"
   ]
  },
  {
   "cell_type": "markdown",
   "metadata": {},
   "source": [
    "### 特征重要性分析\n",
    "在做数据分析过程中，我们需要分析抽取出来的特征对预测的贡献，以得出特征的重要性。特征重要性分析能够帮助我们继续进行相关的特征工程，比如过滤一些没有贡献的特征，加强一些比较重要的特征。\n",
    "\n",
    "\n",
    "选择一个`scikit-learn`中有`feature_importance_`属性的监督学习分类器，这个属性是一个在做预测的时候根据所选择的算法来对特征重要性进行排序的功能。\n",
    "\n",
    "在下面的代码单元中，你将要实现以下功能：\n",
    " - 如果这个模型和你前面使用的三个模型不一样的话从sklearn中导入一个监督学习模型。\n",
    " - 在整个训练集上训练一个监督学习模型。\n",
    " - 使用模型中的 `'feature_importances_'`提取特征的重要性。"
   ]
  },
  {
   "cell_type": "code",
   "execution_count": 20,
   "metadata": {},
   "outputs": [
    {
     "name": "stderr",
     "output_type": "stream",
     "text": [
      "C:\\ProgramData\\Anaconda3\\lib\\site-packages\\sklearn\\ensemble\\forest.py:245: FutureWarning: The default value of n_estimators will change from 10 in version 0.20 to 100 in 0.22.\n",
      "  \"10 in version 0.20 to 100 in 0.22.\", FutureWarning)\n"
     ]
    },
    {
     "data": {
      "image/png": "[encoded data removed]",
      "text/plain": [
       "<Figure size 864x576 with 1 Axes>"
      ]
     },
     "metadata": {
      "needs_background": "light"
     },
     "output_type": "display_data"
    }
   ],
   "source": [
    "# TODO：导入一个有'feature_importances_'的监督学习模型\n",
    "\n",
    "# TODO：在训练集上训练一个监督学习模型，初始化\n",
    "model = RandomForestClassifier(max_depth=50, min_samples_split=8)\n",
    "# TODO: fit 训练集\n",
    "model.fit(X_train, y_train)\n",
    "\n",
    "\n",
    "import matplotlib.pyplot as plt\n",
    "plt.rcParams['font.sans-serif'] = ['Microsoft YaHei']\n",
    "features = [\"天气\", \"起飞时刻\"]\n",
    "\n",
    "feature_important = model.feature_importances_\n",
    "plt.figure(figsize=(12,8))\n",
    "plt.bar(np.arange(len(features)),feature_important)\n",
    "plt.xticks(np.arange(len(features)),features,fontsize=12,rotation=10)\n",
    "plt.show()\n"
   ]
  },
  {
   "cell_type": "markdown",
   "metadata": {},
   "source": [
    "#### 问题6：哪一个特征更加重要？这符合你的直觉吗？谈谈你在平时的项目中在做特征工程时，对于使用符合直觉的特征的看法，可以举例说明。\n",
    "\n",
    "回答问题：天气因素更重要，这符合直觉，因为天气因素更不可控。使用符合直觉的特征，如果得出的结果是反直觉的可以帮助我们查看模型、参数是否使用正确，而如果经过验证，结果确实反直觉，也许是一项有意义的发现。"
   ]
  },
  {
   "cell_type": "markdown",
   "metadata": {},
   "source": [
    "## 模型对比\n",
    "\n",
    "目前为止，我们已经对一个实际问题的复杂的数据进行了处理，并抽取了一两个特征，然后进行了模型训练。你可以按照这个流程做更多的特征工程的工作。由于数据量大，我们已经做好了特征工程，同时我们也sample了部分数据，方便接下来对不同模型进行比较。\n",
    "\n",
    "这一小节，我们要学习在具体业务场景经常使用的模型，梯度提升决策树 （Gradient Boosting Decison Tree，GBDT）。GBDT在工业场景和各大数据挖掘比赛中都是非常流行的模型，在这里，我们尝试对这些流行对模型进行初探。"
   ]
  },
  {
   "cell_type": "markdown",
   "metadata": {},
   "source": [
    "#### 问题7：通俗的解释什么是 梯度提升决策树 （Gradient Boosting Decison Tree，GBDT）？并列举其优缺点。\n",
    "\n",
    "回答问题：提升决策树中的树是回归树（不是分类树），回归树总体流程类似于分类树，区别在于，回归树的每一个节点都会得一个预测值,该预测值等于属于这个节点的所有样本的平均值。而梯度提升决策树(GBDT)是以决策树为基学习器的一种Boosting算法，它在每一轮迭代中建立一个决策树，使当前模型的残差在梯度方向上减少；然后将该决策树与当前模型进行线性组合得到新模型；不断重复，直到决策树数目达到指定的值，得到最终的强学习器。\n",
    "\n",
    "优点：1. 可以灵活处理混合型数据  2. 强大的预测能力 3. 在输出空间中对异常点的鲁棒性\n",
    "\n",
    "缺点：1. 在高维稀疏的数据集上，表现不如支持向量机或者神经网络 2. 由于提升算法的有序性，因此很难做到并行 2. GBDT在处理文本分类特征问题上，相对其他模型的优势不如它在处理 数值特征时明显 3. 训练过程需要串行训练，只能在决策树内部采用一些局部并行的手段提高训练速度。\n",
    "\n",
    "[参考](https://blog.csdn.net/pxhdky/article/details/84938536)"
   ]
  },
  {
   "cell_type": "markdown",
   "metadata": {},
   "source": [
    "#### 问题8：目前比较流行的 `GBDT`的变种有 [Xgboost](https://xgboost.readthedocs.io/en/latest/) 和 [LightGBM](https://lightgbm.readthedocs.io/en/latest/)，请比较这三个梯度提升模型，列举他们各自的特点? （你可以参考一些文档，并给出你的引用出处）\n",
    "\n",
    "回答问题：\n",
    "1. GBDT的优点在于采用决策树作为弱分类器使得GBDT模型具有较好的解释性和鲁棒性，能够自动发现特征间的高阶关系，也不需要对数据进行特殊的预处理如归一化，在分布稠密的数据集上，泛化能力和表达能力都很好。\n",
    "\n",
    "2. XGBoos：\n",
    ">- XGBoost在使用CART作为基分类器时，显式地加入了正则项来控制模型的复杂度，有利于防止过拟合，从而提高模型的泛化能力；\n",
    ">- 除了以CART作为基分类器，XGBoost也支持多种类型的基分类器，比如线性分类器。\n",
    ">- GBDT在模型训练时只使用了代价函数的一阶导数信息，XGBoost对代价函数进行二阶泰勒展开，可以同时使用一阶和二阶导数;\n",
    ">- GBDT在每轮迭代时使用全部的数据，XGBoost则支持对数据进行采样，支持列抽样，不仅能降低过拟合，还能减少计算;\n",
    ">- GBDT没有设计对缺失值进行处理，XGBoost可以自动学习出它的分裂方向。\n",
    "\n",
    "3. LightGBM:LightGBM是XGBoost的改进版，相比于前者，它添加了很多新的方法来改进模型，包括:并行方案、基于梯度的单边检测、排他性特征捆绑等。具有更快的训练效率和更高的准确率。\n",
    "\n",
    "[参考](https://www.jianshu.com/p/765efe2b951a)"
   ]
  },
  {
   "cell_type": "markdown",
   "metadata": {},
   "source": [
    "我们已经预先对该数据做了充分的特征工程，然后 `sample` 出了部分数据。数据在路径 `./data/`下面，有训练集`train.csv`和测试集`test.csv`"
   ]
  },
  {
   "cell_type": "code",
   "execution_count": 26,
   "metadata": {},
   "outputs": [],
   "source": [
    "# 直接运行读取数据，并分别得到 X 和 Y 的数据\n",
    "\n",
    "# 处理训练集\n",
    "train_x = pd.read_csv(\"./data/train.csv\")\n",
    "train_y = train_x[\"飞机延误目标\"].values\n",
    "del(train_x[\"飞机延误目标\"])\n",
    "# 处理测试集\n",
    "test_x = pd.read_csv(\"./data/test.csv\")\n",
    "test_y = test_x[\"飞机延误目标\"].values\n",
    "del(test_x[\"飞机延误目标\"])"
   ]
  },
  {
   "cell_type": "markdown",
   "metadata": {},
   "source": [
    "### 对 gbdt 进行调参\n",
    "\n",
    "按照上面简单模型构建部分的流程，先定义一个梯度提升决策树分类器 GradientBoostingClassifier，并设置里面固定参数；然后设置需要调优的参数，然后通过 网格搜索 `GridSearchCV` 进行搜索最优参数。由于数据量已经减少，这里你可以将参数设置的大一些，以提升模型的准确度，但要防止过拟合。"
   ]
  },
  {
   "cell_type": "code",
   "execution_count": 54,
   "metadata": {
    "scrolled": true
   },
   "outputs": [
    {
     "name": "stdout",
     "output_type": "stream",
     "text": [
      "准确率：0.9938688888888888\n",
      "{'min_samples_leaf': 50, 'min_samples_split': 8}\n"
     ]
    }
   ],
   "source": [
    "from sklearn.model_selection import train_test_split\n",
    "from sklearn.ensemble import GradientBoostingClassifier\n",
    "from sklearn.model_selection import GridSearchCV\n",
    "from sklearn import metrics\n",
    "from sklearn.metrics import make_scorer, fbeta_score, accuracy_score\n",
    "\n",
    "\n",
    "\n",
    "# TODO: 需要调的参数，比如 max_depth, n_estimators, learning_rate\n",
    "# cv_params = {\"n_estimators\": [150, 200, 250]}\n",
    "# cv_params = {\"learning_rate\": [0.06, 0.08, 0.10]}\n",
    "# cv_params = {\"max_depth\": [4, 6, 8]}\n",
    "cv_params = {\"min_samples_split\": [7, 8, 10],\"min_samples_leaf\": [40, 50, 60]}\n",
    "\n",
    "\n",
    "#TODO：设置 GBDT 分类器 GradientBoostingClassifier\n",
    "model = GradientBoostingClassifier(loss=\"exponential\", learning_rate=0.08, max_depth=6, n_estimators=250, min_samples_split=8, \n",
    "                                   min_samples_leaf=50)\n",
    "# TODO: 设置 GridSearchCV\n",
    "grid_cv = GridSearchCV(estimator=model, cv=4, param_grid=cv_params, scoring=\"roc_auc\")\n",
    "# TODO: 模型训练\n",
    "grid_cv.fit(train_x, train_y)\n",
    "\n",
    "# TODO：在测试集上预测，并计算accuracy和f-score\n",
    "predict_y = grid_cv.predict_proba(test_x)[:,1]\n",
    "fpr, tpr, thresholds = metrics.roc_curve(test_y, predict_y)\n",
    "auc=metrics.auc(fpr, tpr)\n",
    "print(\"准确率：{}\".format(auc))\n",
    "\n",
    "# TODO：打印最优参数\n",
    "print(grid_cv.best_params_)"
   ]
  },
  {
   "cell_type": "markdown",
   "metadata": {},
   "source": [
    "### 对 Xgboost 进行调参\n",
    "关于xgboost 的参数设置和调参与gbdt类似，参数也是类似的，比如 `n_estimators`表示树的个数；`max_depth`表示构建树的深度，越大越容易过拟合；`gamma`表示用于控制是否后剪枝的参数；`reg_lambda`是用来控制模型复杂度的L2正则化的参数，值越大，模型越不容易过拟合，等等。由于数据量已经减少，这里你可以将参数设置的大一些，以提升模型的准确度，但要防止过拟合。\n",
    "\n",
    "如果没有安装过xgboost，你需要先运行以下代码来安装 xgboost"
   ]
  },
  {
   "cell_type": "code",
   "execution_count": 23,
   "metadata": {
    "scrolled": true
   },
   "outputs": [
    {
     "name": "stdout",
     "output_type": "stream",
     "text": [
      "Requirement already satisfied: xgboost in c:\\programdata\\anaconda3\\lib\\site-packages (0.90)\n",
      "Requirement already satisfied: scipy in c:\\programdata\\anaconda3\\lib\\site-packages (from xgboost) (1.3.1)\n",
      "Requirement already satisfied: numpy in c:\\programdata\\anaconda3\\lib\\site-packages (from xgboost) (1.16.5)\n"
     ]
    }
   ],
   "source": [
    "!pip install xgboost"
   ]
  },
  {
   "cell_type": "code",
   "execution_count": 48,
   "metadata": {},
   "outputs": [
    {
     "name": "stdout",
     "output_type": "stream",
     "text": [
      "准确率：0.9999773333333333\n",
      "{'reg_alpha': 0.2}\n"
     ]
    }
   ],
   "source": [
    "### 使用Xgboost 进行训练和测试\n",
    "import xgboost as xgb\n",
    "\n",
    "# TODO: 选择要调优的参数, 比如max_depth, n_estimator,learning_rate\n",
    "# cv_params = {\"n_estimators\": [100, 150, 200], learning_rate\": [0.06, 0.08, 0.10]}\n",
    "# cv_params = {\"max_depth\": [8, 9, 10]}\n",
    "# cv_params = {'gamma': [0.4,0.5,0.6,0.7]}\n",
    "# cv_params = {\"subsample\": [0.7, 0.8, 0.9], \"colsample_bytree\":[0.4,0.5,0.6]}\n",
    "# cv_params = {'reg_lambda': [0.05, 0.1, 1, 2, 3]}\n",
    "\n",
    "cv_params = {'reg_alpha': [0.1,0.2,0.3]}\n",
    "other_params = {'loss':'exponential', 'learning_rate': 0.08, 'n_estimators': 150, 'max_depth': 9, 'min_child_weight': 2, 'seed': 0,\n",
    "                'subsample': 0.9, 'colsample_bytree': 0.4, 'gamma': 0.6, 'reg_alpha': 0.2, 'reg_lambda': 2}\n",
    "\n",
    "\n",
    "model = xgb.XGBClassifier(**other_params)\n",
    "\n",
    "grid_cv = GridSearchCV(estimator=model, cv=4, param_grid=cv_params, scoring=\"roc_auc\")\n",
    "grid_cv.fit(train_x, train_y)\n",
    "\n",
    "# TODO：在测试集上预测，并计算accuracy和f-score\n",
    "predict_y = grid_cv.predict_proba(test_x)[:,1]\n",
    "fpr, tpr, thresholds = metrics.roc_curve(test_y, predict_y)\n",
    "auc=metrics.auc(fpr, tpr)\n",
    "print(\"准确率：{}\".format(auc))\n",
    "\n",
    "# TODO：打印最优参数\n",
    "print(grid_cv.best_params_)"
   ]
  },
  {
   "cell_type": "markdown",
   "metadata": {
    "collapsed": true
   },
   "source": [
    "#### 问题9：在这个任务中，`GBDT`和`xgboost`的性能如何？哪一个更优？通过此次对比和调参过程，总结你对**梯度提升决策树**调参的经验与总结\n",
    "\n",
    "回答问题：xgboost的性能更优。\n",
    "\n",
    "调参经验与总结：GBDT的参数分为两类，第一类是Boosting框架参数，第二类是弱学习器即CART回归树的参数\n",
    "1. 首先框架参数进行调整，一般对迭代次数和学习率做调整。\n",
    "2. 接下来对决策树参数调参，先调整max_depth和min_samples_split，再调整叶子节点最少样本数min_samples_leaf。\n",
    "3. 对xgboost可以接着调整gamma、subsample、colsample_bytree、reg_lambda等参数"
   ]
  },
  {
   "cell_type": "code",
   "execution_count": null,
   "metadata": {},
   "outputs": [],
   "source": []
  }
 ],
 "metadata": {
  "kernelspec": {
   "display_name": "Python 3",
   "language": "python",
   "name": "python3"
  },
  "language_info": {
   "codemirror_mode": {
    "name": "ipython",
    "version": 3
   },
   "file_extension": ".py",
   "mimetype": "text/x-python",
   "name": "python",
   "nbconvert_exporter": "python",
   "pygments_lexer": "ipython3",
   "version": "3.7.4"
  }
 },
 "nbformat": 4,
 "nbformat_minor": 2
}
